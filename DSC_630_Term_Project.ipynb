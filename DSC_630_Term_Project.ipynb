{
 "cells": [
  {
   "cell_type": "markdown",
   "id": "b745ab7d",
   "metadata": {},
   "source": [
    "# DSC 630 - Predictive Analytics\n",
    "# Term Project - Summer 2024\n",
    "# David Berberena | Brian Mann"
   ]
  },
  {
   "cell_type": "code",
   "execution_count": 1,
   "id": "da29915b",
   "metadata": {},
   "outputs": [],
   "source": [
    "# imported libraries\n",
    "import numpy as np\n",
    "import pandas as pd\n",
    "import matplotlib.pyplot as plt\n",
    "import seaborn as sns"
   ]
  },
  {
   "cell_type": "code",
   "execution_count": 2,
   "id": "ec0a0a45",
   "metadata": {},
   "outputs": [],
   "source": [
    "# hide warnings\n",
    "import warnings\n",
    "warnings.filterwarnings('ignore')"
   ]
  },
  {
   "cell_type": "markdown",
   "id": "07404ac9",
   "metadata": {},
   "source": [
    "## Milestone 2 - Data Selection and Project Proposal"
   ]
  },
  {
   "cell_type": "code",
   "execution_count": null,
   "id": "2fa364d9",
   "metadata": {},
   "outputs": [],
   "source": [
    "# datasets\n",
    "url1 = 'www.example1.com/data'"
   ]
  },
  {
   "cell_type": "markdown",
   "id": "a4a06181",
   "metadata": {},
   "source": [
    "### Step 1: ..."
   ]
  },
  {
   "cell_type": "code",
   "execution_count": null,
   "id": "51ee38c8",
   "metadata": {},
   "outputs": [],
   "source": []
  },
  {
   "cell_type": "markdown",
   "id": "171339fa",
   "metadata": {},
   "source": [
    "### Step 2: ..."
   ]
  },
  {
   "cell_type": "code",
   "execution_count": null,
   "id": "205da7f5",
   "metadata": {},
   "outputs": [],
   "source": []
  }
 ],
 "metadata": {
  "kernelspec": {
   "display_name": "Python 3 (ipykernel)",
   "language": "python",
   "name": "python3"
  },
  "language_info": {
   "codemirror_mode": {
    "name": "ipython",
    "version": 3
   },
   "file_extension": ".py",
   "mimetype": "text/x-python",
   "name": "python",
   "nbconvert_exporter": "python",
   "pygments_lexer": "ipython3",
   "version": "3.11.5"
  }
 },
 "nbformat": 4,
 "nbformat_minor": 5
}
